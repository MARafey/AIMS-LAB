{
 "cells": [
  {
   "cell_type": "code",
   "execution_count": 1,
   "metadata": {},
   "outputs": [
    {
     "name": "stdout",
     "output_type": "stream",
     "text": [
      "Image dimensions: 480 640 3\n",
      "Epoch 1/10\n"
     ]
    }
   ],
   "source": [
    "import os\n",
    "import cv2\n",
    "import numpy as np\n",
    "from keras.models import Sequential\n",
    "from keras.layers import Conv2D, UpSampling2D\n",
    "\n",
    "# Define the paths to the clear and foggy image folders -- CHANGE THESE PATHS TO YOUR OWN\n",
    "clear_folder = 'C:\\\\Users\\\\maraf\\\\OneDrive\\\\Desktop\\\\ZippedGift\\\\ZippedGift\\\\OG_ModelBasedOnOurOwnDataset\\\\Foggy'\n",
    "foggy_folder = 'C:\\\\Users\\\\maraf\\\\OneDrive\\\\Desktop\\\\ZippedGift\\\\ZippedGift\\\\OG_ModelBasedOnOurOwnDataset\\\\Clear'\n",
    "\n",
    "# Load the clear images\n",
    "clear_images = []\n",
    "for filename in os.listdir(clear_folder):\n",
    "    if filename.endswith((\".png\", \".jpg\")):  # Check for valid image file extensions\n",
    "        clear_img = cv2.imread(os.path.join(clear_folder, filename))\n",
    "        if clear_img is not None:  # Check if the image was loaded successfully\n",
    "            clear_images.append(clear_img)\n",
    "\n",
    "# Load the foggy images\n",
    "foggy_images = []\n",
    "for filename in os.listdir(foggy_folder):\n",
    "    if filename.endswith((\".png\", \".jpg\")):  # Check for valid image file extensions\n",
    "        foggy_img = cv2.imread(os.path.join(foggy_folder, filename))\n",
    "        if foggy_img is not None:  # Check if the image was loaded successfully\n",
    "            foggy_images.append(foggy_img)\n",
    "\n",
    "# Convert the lists of images to numpy arrays\n",
    "clear_images = np.array(clear_images)\n",
    "foggy_images = np.array(foggy_images)\n",
    "\n",
    "# Get the size of the images to determine the dimensions\n",
    "image_height, image_width, num_channels = foggy_images[0].shape\n",
    "print(\"Image dimensions:\", image_height, image_width, num_channels)\n",
    "\n",
    "# Resize the images to the desired size\n",
    "resized_clear_images = []\n",
    "resized_foggy_images = []\n",
    "for clear_img, foggy_img in zip(clear_images, foggy_images):\n",
    "    resized_clear_img = cv2.resize(clear_img, (image_width, image_height))\n",
    "    resized_foggy_img = cv2.resize(foggy_img, (image_width, image_height))\n",
    "    resized_clear_images.append(resized_clear_img)\n",
    "    resized_foggy_images.append(resized_foggy_img)\n",
    "\n",
    "# Convert the lists of resized images to numpy arrays\n",
    "resized_clear_images = np.array(resized_clear_images)\n",
    "resized_foggy_images = np.array(resized_foggy_images)\n",
    "\n",
    "# Normalize pixel values to range between 0 and 1\n",
    "resized_clear_images = resized_clear_images.astype('float32') / 255.0\n",
    "resized_foggy_images = resized_foggy_images.astype('float32') / 255.0\n",
    "\n",
    "# Define the CNN model architecture\n",
    "model = Sequential()\n",
    "model.add(Conv2D(128, (3, 3), activation='relu', padding='same', input_shape=(image_height, image_width, num_channels)))\n",
    "model.add(Conv2D(128, (3, 3), activation='relu', padding='same'))\n",
    "# model.add(UpSampling2D((2, 2)))\n",
    "model.add(Conv2D(128, (3, 3), activation='relu', padding='same'))\n",
    "model.add(Conv2D(num_channels, (3, 3), activation='sigmoid', padding='same'))\n",
    "\n",
    "# Compile the model\n",
    "model.compile(optimizer='adam', loss='mean_squared_error')\n",
    "\n",
    "# Train the model\n",
    "model.fit(resized_foggy_images, resized_clear_images, epochs=10, batch_size=16)\n",
    "\n",
    "# Save the trained model\n",
    "model.save(\"foggy_to_clear_model.h5\")\n"
   ]
  }
 ],
 "metadata": {
  "kernelspec": {
   "display_name": "Python 3",
   "language": "python",
   "name": "python3"
  },
  "language_info": {
   "codemirror_mode": {
    "name": "ipython",
    "version": 3
   },
   "file_extension": ".py",
   "mimetype": "text/x-python",
   "name": "python",
   "nbconvert_exporter": "python",
   "pygments_lexer": "ipython3",
   "version": "3.10.6"
  },
  "orig_nbformat": 4
 },
 "nbformat": 4,
 "nbformat_minor": 2
}
